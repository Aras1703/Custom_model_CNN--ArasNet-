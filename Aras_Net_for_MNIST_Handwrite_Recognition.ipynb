{
  "nbformat": 4,
  "nbformat_minor": 0,
  "metadata": {
    "colab": {
      "name": "Aras Net for MNIST Handwrite Recognition.ipynb",
      "provenance": [],
      "collapsed_sections": [
        "EMcTH8vh54dw",
        "P8drfDU86CqA",
        "aT1KOT4N6uBx",
        "lsWrSUwH7fkl",
        "DD5FrJzT7qit",
        "EinCmeA28AX6",
        "W-t1jlXi8Fey",
        "ldoir4Ub8O20",
        "eM1TwSYl8Y5B"
      ],
      "authorship_tag": "ABX9TyOGuyp3DHlGSovGlAKFV+bb",
      "include_colab_link": true
    },
    "kernelspec": {
      "name": "python3",
      "display_name": "Python 3"
    },
    "language_info": {
      "name": "python"
    },
    "accelerator": "GPU"
  },
  "cells": [
    {
      "cell_type": "markdown",
      "metadata": {
        "id": "view-in-github",
        "colab_type": "text"
      },
      "source": [
        "<a href=\"https://colab.research.google.com/github/Aras1703/Custom_model_CNN-ArasNet-/blob/main/Aras_Net_for_MNIST_Handwrite_Recognition.ipynb\" target=\"_parent\"><img src=\"https://colab.research.google.com/assets/colab-badge.svg\" alt=\"Open In Colab\"/></a>"
      ]
    },
    {
      "cell_type": "markdown",
      "source": [
        "#**MNIST Handwrite Recognition**\n",
        "\n",
        "in this case, i used a PyTorch library to take the MNIST dataset from \"torchvision.dataset\" function. To preprocessed the data i just normalizing the dataset and change it to Tensor from NumPy array. Then, i build my own model named Aras Net. Aras Net is a model that based on CNN, i use some function like Convolution, Pooling, and Padding from CNN. Furthermore, after the Convolution, Pooling, and Padding process i used a batch normalization function to normalizing the weighted in fully connected layer. Aras Net get 99,03 % accuracy in just 3 iteration. \n",
        "\n",
        "- Aras Net Explanation\n",
        "\n",
        "First i used 7 x 7 kernel size to convolute the process 1 and then add a padding function so the pixels of the images wouldn't lose much an information. Second, i used 3 x 3 kernel size to convolute the process 2 and then add a padding function again, the reason i reduce the kernel size is to gain more information from the pixels. Third, after the convolution process i used a batch normalization and connect to hidden layer, i used a batch normalization to normalize a weighted value after the backpropagation process, so that my fully connected layer can be more faster and efficient for the training process."
      ],
      "metadata": {
        "id": "fTFIf1t_9IAn"
      }
    },
    {
      "cell_type": "markdown",
      "source": [
        "##**Import Library**"
      ],
      "metadata": {
        "id": "EMcTH8vh54dw"
      }
    },
    {
      "cell_type": "code",
      "execution_count": null,
      "metadata": {
        "id": "idAXQlyhd5AS"
      },
      "outputs": [],
      "source": [
        "import torch\n",
        "import torchvision\n",
        "import torch.nn as nn\n",
        "import torch.nn.functional as F\n",
        "import torch.optim as optim\n",
        "import matplotlib.pyplot as plt"
      ]
    },
    {
      "cell_type": "markdown",
      "source": [
        "##**Define Number of Iteration for Training Loop, Learning Rate to Optimized the Algorithm, and Batch Size for Data Train and Test**"
      ],
      "metadata": {
        "id": "P8drfDU86CqA"
      }
    },
    {
      "cell_type": "code",
      "source": [
        "n_epochs = 3\n",
        "batch_size_train = 64\n",
        "batch_size_test = 1960\n",
        "learning_rate = 0.001\n",
        "log_interval = 10\n",
        "\n",
        "random_seed = 1\n",
        "torch.backends.cudnn.enabled = False\n",
        "torch.manual_seed(random_seed)"
      ],
      "metadata": {
        "colab": {
          "base_uri": "https://localhost:8080/"
        },
        "id": "9R1aNc3HgNFE",
        "outputId": "23d89b75-dbf3-4a79-dc61-e0e0d1f2cf10"
      },
      "execution_count": null,
      "outputs": [
        {
          "output_type": "execute_result",
          "data": {
            "text/plain": [
              "<torch._C.Generator at 0x7fb435a20ab0>"
            ]
          },
          "metadata": {},
          "execution_count": 14
        }
      ]
    },
    {
      "cell_type": "markdown",
      "source": [
        "##**Import and Normalize Data**"
      ],
      "metadata": {
        "id": "aT1KOT4N6uBx"
      }
    },
    {
      "cell_type": "code",
      "source": [
        "train_loader = torch.utils.data.DataLoader(\n",
        "  torchvision.datasets.MNIST('/file/', train=True, download=True,\n",
        "                             transform=torchvision.transforms.Compose([\n",
        "                               torchvision.transforms.ToTensor(),\n",
        "                               torchvision.transforms.Normalize(\n",
        "                                 (0.1307,), (0.3081,))\n",
        "                             ])),\n",
        "  batch_size=batch_size_train, shuffle=True)\n",
        "\n",
        "test_loader = torch.utils.data.DataLoader(\n",
        "  torchvision.datasets.MNIST('/file/', train=False, download=True,\n",
        "                             transform=torchvision.transforms.Compose([\n",
        "                               torchvision.transforms.ToTensor(),\n",
        "                               torchvision.transforms.Normalize(\n",
        "                                 (0.1307,), (0.3081,))\n",
        "                             ])),\n",
        "  batch_size=batch_size_test, shuffle=True)"
      ],
      "metadata": {
        "id": "7R90B7Q1gidi"
      },
      "execution_count": null,
      "outputs": []
    },
    {
      "cell_type": "code",
      "source": [
        "examples = enumerate(test_loader)\n",
        "batch_idx, (example_data, example_targets) = next(examples)"
      ],
      "metadata": {
        "id": "rF0oEGTGgpGf"
      },
      "execution_count": null,
      "outputs": []
    },
    {
      "cell_type": "code",
      "source": [
        "example_data.shape"
      ],
      "metadata": {
        "colab": {
          "base_uri": "https://localhost:8080/"
        },
        "id": "pQs25kLAgsoJ",
        "outputId": "b3ebdae0-f0f7-44bd-bcc6-4fd2284718e4"
      },
      "execution_count": null,
      "outputs": [
        {
          "output_type": "execute_result",
          "data": {
            "text/plain": [
              "torch.Size([1960, 1, 28, 28])"
            ]
          },
          "metadata": {},
          "execution_count": 17
        }
      ]
    },
    {
      "cell_type": "markdown",
      "source": [
        "##**Plot the Original Data**"
      ],
      "metadata": {
        "id": "lsWrSUwH7fkl"
      }
    },
    {
      "cell_type": "code",
      "source": [
        "fig = plt.figure()\n",
        "for i in range(6):\n",
        "  plt.subplot(2,3,i+1)\n",
        "  plt.tight_layout()\n",
        "  plt.imshow(example_data[i][0], cmap='gray', interpolation='none')\n",
        "  plt.title(\"Original Value: {}\".format(example_targets[i]))\n",
        "  plt.xticks([])\n",
        "  plt.yticks([])\n",
        "fig"
      ],
      "metadata": {
        "colab": {
          "base_uri": "https://localhost:8080/",
          "height": 551
        },
        "id": "iAoeiejvgwxS",
        "outputId": "18f433ef-b193-4f37-ca01-6c3dabfb143a"
      },
      "execution_count": null,
      "outputs": [
        {
          "output_type": "execute_result",
          "data": {
            "image/png": "[encoded data removed]",
            "text/plain": [
              "<Figure size 432x288 with 6 Axes>"
            ]
          },
          "metadata": {},
          "execution_count": 18
        },
        {
          "output_type": "display_data",
          "data": {
            "image/png": "[encoded data removed]",
            "text/plain": [
              "<Figure size 432x288 with 6 Axes>"
            ]
          },
          "metadata": {}
        }
      ]
    },
    {
      "cell_type": "markdown",
      "source": [
        "##**Build an Architecture named Aras Net**"
      ],
      "metadata": {
        "id": "DD5FrJzT7qit"
      }
    },
    {
      "cell_type": "code",
      "source": [
        "class ArasNet(nn.Module):\n",
        "    def __init__(self):\n",
        "        super(ArasNet, self).__init__()\n",
        "        self.conv1 = nn.Conv2d(1, 32, kernel_size=7, padding=3)    # original input 28 x 28, conv 22 x 22, padding 28 x 28, pooling 14 x 14\n",
        "        self.bn1 = nn.BatchNorm2d(32)                              # normalizing weights\n",
        "        self.conv2 = nn.Conv2d(32, 64, kernel_size=3, padding=3)   # input 14 x 14, conv 12 x 12, padd 18 x 18, pooling 9 x 9\n",
        "        self.bn2 = nn.BatchNorm2d(64)                              # normalizing weights\n",
        "        self.fc1 = nn.Linear(5184, 128)                            # fully connected 5184 to 128 hidden layer\n",
        "        self.fc2 = nn.Linear(128, 10)                              # fully connected 128 to output layer\n",
        "    def forward(self, x):\n",
        "        x = F.relu(F.max_pool2d(self.bn1(self.conv1(x)), 2))       # add a pooling and relu function\n",
        "        x = F.relu(F.max_pool2d(self.bn2(self.conv2(x)), 2))       # add a pooling and relu function\n",
        "        x = x.view(-1, 5184)\n",
        "        x = F.relu(self.fc1(x))\n",
        "        x = self.fc2(x)\n",
        "        return F.log_softmax(x)"
      ],
      "metadata": {
        "id": "Xbsrw9vJh9xw"
      },
      "execution_count": null,
      "outputs": []
    },
    {
      "cell_type": "code",
      "source": [
        "network = ArasNet()\n",
        "optimizer = optim.Adam(network.parameters(), lr=learning_rate)"
      ],
      "metadata": {
        "id": "MbnFKLi7n_RA"
      },
      "execution_count": null,
      "outputs": []
    },
    {
      "cell_type": "code",
      "source": [
        "train_losses = []\n",
        "train_counter = []\n",
        "test_losses = []\n",
        "test_counter = [i*len(train_loader.dataset) for i in range(n_epochs + 1)]"
      ],
      "metadata": {
        "id": "qoXUw0GdoRpe"
      },
      "execution_count": null,
      "outputs": []
    },
    {
      "cell_type": "markdown",
      "source": [
        "##**Training Loop**"
      ],
      "metadata": {
        "id": "EinCmeA28AX6"
      }
    },
    {
      "cell_type": "code",
      "source": [
        "def train(epoch):\n",
        "  network.train()\n",
        "  for batch_idx, (data, target) in enumerate(train_loader):\n",
        "    optimizer.zero_grad()\n",
        "    output = network(data)\n",
        "    loss = F.nll_loss(output, target)\n",
        "    loss.backward()\n",
        "    optimizer.step()\n",
        "    if batch_idx % log_interval == 0:\n",
        "      print('Train Epoch: {} [{}/{} ({:.0f}%)]\\tLoss: {:.6f}'.format(\n",
        "        epoch, batch_idx * len(data), len(train_loader.dataset),\n",
        "        100. * batch_idx / len(train_loader), loss.item()))\n",
        "      train_losses.append(loss.item())\n",
        "      train_counter.append(\n",
        "        (batch_idx*64) + ((epoch-1)*len(train_loader.dataset)))"
      ],
      "metadata": {
        "id": "IIvOJS73oc4H"
      },
      "execution_count": null,
      "outputs": []
    },
    {
      "cell_type": "markdown",
      "source": [
        "##**Test Loop**"
      ],
      "metadata": {
        "id": "W-t1jlXi8Fey"
      }
    },
    {
      "cell_type": "code",
      "source": [
        "def test():\n",
        "  network.eval()\n",
        "  test_loss = 0\n",
        "  correct = 0\n",
        "  with torch.no_grad():\n",
        "    for data, target in test_loader:\n",
        "      output = network(data)\n",
        "      test_loss += F.nll_loss(output, target, size_average=False).item()\n",
        "      pred = output.data.max(1, keepdim=True)[1]\n",
        "      correct += pred.eq(target.data.view_as(pred)).sum()\n",
        "  test_loss /= len(test_loader.dataset)\n",
        "  test_losses.append(test_loss)\n",
        "  print('\\nTest set: Avg. loss: {:.4f}, Accuracy: {}/{} ({:.0f}%)\\n'.format(\n",
        "    test_loss, correct, len(test_loader.dataset),\n",
        "    100. * correct / len(test_loader.dataset)))"
      ],
      "metadata": {
        "id": "cbTcvCSpogPS"
      },
      "execution_count": null,
      "outputs": []
    },
    {
      "cell_type": "code",
      "source": [
        "test()\n",
        "for epoch in range(1, n_epochs + 1):\n",
        "  train(epoch)\n",
        "  test()"
      ],
      "metadata": {
        "colab": {
          "base_uri": "https://localhost:8080/"
        },
        "id": "ckdvDlIBojUj",
        "outputId": "8731f37d-931b-41ec-e850-36582b85b558"
      },
      "execution_count": null,
      "outputs": [
        {
          "output_type": "stream",
          "name": "stderr",
          "text": [
            "/usr/local/lib/python3.7/dist-packages/ipykernel_launcher.py:16: UserWarning: Implicit dimension choice for log_softmax has been deprecated. Change the call to include dim=X as an argument.\n",
            "  app.launch_new_instance()\n",
            "/usr/local/lib/python3.7/dist-packages/torch/nn/_reduction.py:42: UserWarning: size_average and reduce args will be deprecated, please use reduction='sum' instead.\n",
            "  warnings.warn(warning.format(ret))\n"
          ]
        },
        {
          "output_type": "stream",
          "name": "stdout",
          "text": [
            "\n",
            "Test set: Avg. loss: 2.3125, Accuracy: 1045/10000 (10%)\n",
            "\n",
            "Train Epoch: 1 [0/60000 (0%)]\tLoss: 2.341977\n",
            "Train Epoch: 1 [640/60000 (1%)]\tLoss: 1.043977\n",
            "Train Epoch: 1 [1280/60000 (2%)]\tLoss: 0.678430\n",
            "Train Epoch: 1 [1920/60000 (3%)]\tLoss: 0.303289\n",
            "Train Epoch: 1 [2560/60000 (4%)]\tLoss: 0.257358\n",
            "Train Epoch: 1 [3200/60000 (5%)]\tLoss: 0.209567\n",
            "Train Epoch: 1 [3840/60000 (6%)]\tLoss: 0.269150\n",
            "Train Epoch: 1 [4480/60000 (7%)]\tLoss: 0.206516\n",
            "Train Epoch: 1 [5120/60000 (9%)]\tLoss: 0.244945\n",
            "Train Epoch: 1 [5760/60000 (10%)]\tLoss: 0.161999\n",
            "Train Epoch: 1 [6400/60000 (11%)]\tLoss: 0.262355\n",
            "Train Epoch: 1 [7040/60000 (12%)]\tLoss: 0.229904\n",
            "Train Epoch: 1 [7680/60000 (13%)]\tLoss: 0.226736\n",
            "Train Epoch: 1 [8320/60000 (14%)]\tLoss: 0.122423\n",
            "Train Epoch: 1 [8960/60000 (15%)]\tLoss: 0.035047\n",
            "Train Epoch: 1 [9600/60000 (16%)]\tLoss: 0.114040\n",
            "Train Epoch: 1 [10240/60000 (17%)]\tLoss: 0.096633\n",
            "Train Epoch: 1 [10880/60000 (18%)]\tLoss: 0.075337\n",
            "Train Epoch: 1 [11520/60000 (19%)]\tLoss: 0.062792\n",
            "Train Epoch: 1 [12160/60000 (20%)]\tLoss: 0.038372\n",
            "Train Epoch: 1 [12800/60000 (21%)]\tLoss: 0.152690\n",
            "Train Epoch: 1 [13440/60000 (22%)]\tLoss: 0.034953\n",
            "Train Epoch: 1 [14080/60000 (23%)]\tLoss: 0.102416\n",
            "Train Epoch: 1 [14720/60000 (25%)]\tLoss: 0.055323\n",
            "Train Epoch: 1 [15360/60000 (26%)]\tLoss: 0.202312\n",
            "Train Epoch: 1 [16000/60000 (27%)]\tLoss: 0.068989\n",
            "Train Epoch: 1 [16640/60000 (28%)]\tLoss: 0.108557\n",
            "Train Epoch: 1 [17280/60000 (29%)]\tLoss: 0.066511\n",
            "Train Epoch: 1 [17920/60000 (30%)]\tLoss: 0.010756\n",
            "Train Epoch: 1 [18560/60000 (31%)]\tLoss: 0.028794\n",
            "Train Epoch: 1 [19200/60000 (32%)]\tLoss: 0.042358\n",
            "Train Epoch: 1 [19840/60000 (33%)]\tLoss: 0.052439\n",
            "Train Epoch: 1 [20480/60000 (34%)]\tLoss: 0.091623\n",
            "Train Epoch: 1 [21120/60000 (35%)]\tLoss: 0.096096\n",
            "Train Epoch: 1 [21760/60000 (36%)]\tLoss: 0.106795\n",
            "Train Epoch: 1 [22400/60000 (37%)]\tLoss: 0.149374\n",
            "Train Epoch: 1 [23040/60000 (38%)]\tLoss: 0.137025\n",
            "Train Epoch: 1 [23680/60000 (39%)]\tLoss: 0.121672\n",
            "Train Epoch: 1 [24320/60000 (41%)]\tLoss: 0.141201\n",
            "Train Epoch: 1 [24960/60000 (42%)]\tLoss: 0.074554\n",
            "Train Epoch: 1 [25600/60000 (43%)]\tLoss: 0.101591\n",
            "Train Epoch: 1 [26240/60000 (44%)]\tLoss: 0.035442\n",
            "Train Epoch: 1 [26880/60000 (45%)]\tLoss: 0.018335\n",
            "Train Epoch: 1 [27520/60000 (46%)]\tLoss: 0.041879\n",
            "Train Epoch: 1 [28160/60000 (47%)]\tLoss: 0.026796\n",
            "Train Epoch: 1 [28800/60000 (48%)]\tLoss: 0.058294\n",
            "Train Epoch: 1 [29440/60000 (49%)]\tLoss: 0.080243\n",
            "Train Epoch: 1 [30080/60000 (50%)]\tLoss: 0.055946\n",
            "Train Epoch: 1 [30720/60000 (51%)]\tLoss: 0.047438\n",
            "Train Epoch: 1 [31360/60000 (52%)]\tLoss: 0.062704\n",
            "Train Epoch: 1 [32000/60000 (53%)]\tLoss: 0.166670\n",
            "Train Epoch: 1 [32640/60000 (54%)]\tLoss: 0.134981\n",
            "Train Epoch: 1 [33280/60000 (55%)]\tLoss: 0.079594\n",
            "Train Epoch: 1 [33920/60000 (57%)]\tLoss: 0.061094\n",
            "Train Epoch: 1 [34560/60000 (58%)]\tLoss: 0.122559\n",
            "Train Epoch: 1 [35200/60000 (59%)]\tLoss: 0.024423\n",
            "Train Epoch: 1 [35840/60000 (60%)]\tLoss: 0.152656\n",
            "Train Epoch: 1 [36480/60000 (61%)]\tLoss: 0.065038\n",
            "Train Epoch: 1 [37120/60000 (62%)]\tLoss: 0.098633\n",
            "Train Epoch: 1 [37760/60000 (63%)]\tLoss: 0.133167\n",
            "Train Epoch: 1 [38400/60000 (64%)]\tLoss: 0.006707\n",
            "Train Epoch: 1 [39040/60000 (65%)]\tLoss: 0.125653\n",
            "Train Epoch: 1 [39680/60000 (66%)]\tLoss: 0.063584\n",
            "Train Epoch: 1 [40320/60000 (67%)]\tLoss: 0.025033\n",
            "Train Epoch: 1 [40960/60000 (68%)]\tLoss: 0.011529\n",
            "Train Epoch: 1 [41600/60000 (69%)]\tLoss: 0.080168\n",
            "Train Epoch: 1 [42240/60000 (70%)]\tLoss: 0.118460\n",
            "Train Epoch: 1 [42880/60000 (71%)]\tLoss: 0.025587\n",
            "Train Epoch: 1 [43520/60000 (72%)]\tLoss: 0.071431\n",
            "Train Epoch: 1 [44160/60000 (74%)]\tLoss: 0.024153\n",
            "Train Epoch: 1 [44800/60000 (75%)]\tLoss: 0.153772\n",
            "Train Epoch: 1 [45440/60000 (76%)]\tLoss: 0.083587\n",
            "Train Epoch: 1 [46080/60000 (77%)]\tLoss: 0.146459\n",
            "Train Epoch: 1 [46720/60000 (78%)]\tLoss: 0.020698\n",
            "Train Epoch: 1 [47360/60000 (79%)]\tLoss: 0.014874\n",
            "Train Epoch: 1 [48000/60000 (80%)]\tLoss: 0.096744\n",
            "Train Epoch: 1 [48640/60000 (81%)]\tLoss: 0.148021\n",
            "Train Epoch: 1 [49280/60000 (82%)]\tLoss: 0.023150\n",
            "Train Epoch: 1 [49920/60000 (83%)]\tLoss: 0.213988\n",
            "Train Epoch: 1 [50560/60000 (84%)]\tLoss: 0.071190\n",
            "Train Epoch: 1 [51200/60000 (85%)]\tLoss: 0.061853\n",
            "Train Epoch: 1 [51840/60000 (86%)]\tLoss: 0.063353\n",
            "Train Epoch: 1 [52480/60000 (87%)]\tLoss: 0.059812\n",
            "Train Epoch: 1 [53120/60000 (88%)]\tLoss: 0.044384\n",
            "Train Epoch: 1 [53760/60000 (90%)]\tLoss: 0.009367\n",
            "Train Epoch: 1 [54400/60000 (91%)]\tLoss: 0.022758\n",
            "Train Epoch: 1 [55040/60000 (92%)]\tLoss: 0.073718\n",
            "Train Epoch: 1 [55680/60000 (93%)]\tLoss: 0.054048\n",
            "Train Epoch: 1 [56320/60000 (94%)]\tLoss: 0.115223\n",
            "Train Epoch: 1 [56960/60000 (95%)]\tLoss: 0.008296\n",
            "Train Epoch: 1 [57600/60000 (96%)]\tLoss: 0.184188\n",
            "Train Epoch: 1 [58240/60000 (97%)]\tLoss: 0.076026\n",
            "Train Epoch: 1 [58880/60000 (98%)]\tLoss: 0.062645\n",
            "Train Epoch: 1 [59520/60000 (99%)]\tLoss: 0.293753\n",
            "\n",
            "Test set: Avg. loss: 0.0700, Accuracy: 9775/10000 (98%)\n",
            "\n",
            "Train Epoch: 2 [0/60000 (0%)]\tLoss: 0.169008\n",
            "Train Epoch: 2 [640/60000 (1%)]\tLoss: 0.026484\n",
            "Train Epoch: 2 [1280/60000 (2%)]\tLoss: 0.024272\n",
            "Train Epoch: 2 [1920/60000 (3%)]\tLoss: 0.005227\n",
            "Train Epoch: 2 [2560/60000 (4%)]\tLoss: 0.039658\n",
            "Train Epoch: 2 [3200/60000 (5%)]\tLoss: 0.023684\n",
            "Train Epoch: 2 [3840/60000 (6%)]\tLoss: 0.035312\n",
            "Train Epoch: 2 [4480/60000 (7%)]\tLoss: 0.157107\n",
            "Train Epoch: 2 [5120/60000 (9%)]\tLoss: 0.040134\n",
            "Train Epoch: 2 [5760/60000 (10%)]\tLoss: 0.041517\n",
            "Train Epoch: 2 [6400/60000 (11%)]\tLoss: 0.005774\n",
            "Train Epoch: 2 [7040/60000 (12%)]\tLoss: 0.005407\n",
            "Train Epoch: 2 [7680/60000 (13%)]\tLoss: 0.021963\n",
            "Train Epoch: 2 [8320/60000 (14%)]\tLoss: 0.136044\n",
            "Train Epoch: 2 [8960/60000 (15%)]\tLoss: 0.005187\n",
            "Train Epoch: 2 [9600/60000 (16%)]\tLoss: 0.019124\n",
            "Train Epoch: 2 [10240/60000 (17%)]\tLoss: 0.125274\n",
            "Train Epoch: 2 [10880/60000 (18%)]\tLoss: 0.028238\n",
            "Train Epoch: 2 [11520/60000 (19%)]\tLoss: 0.138769\n",
            "Train Epoch: 2 [12160/60000 (20%)]\tLoss: 0.068095\n",
            "Train Epoch: 2 [12800/60000 (21%)]\tLoss: 0.010987\n",
            "Train Epoch: 2 [13440/60000 (22%)]\tLoss: 0.023480\n",
            "Train Epoch: 2 [14080/60000 (23%)]\tLoss: 0.143413\n",
            "Train Epoch: 2 [14720/60000 (25%)]\tLoss: 0.016692\n",
            "Train Epoch: 2 [15360/60000 (26%)]\tLoss: 0.047075\n",
            "Train Epoch: 2 [16000/60000 (27%)]\tLoss: 0.019240\n",
            "Train Epoch: 2 [16640/60000 (28%)]\tLoss: 0.033734\n",
            "Train Epoch: 2 [17280/60000 (29%)]\tLoss: 0.100182\n",
            "Train Epoch: 2 [17920/60000 (30%)]\tLoss: 0.001252\n",
            "Train Epoch: 2 [18560/60000 (31%)]\tLoss: 0.040866\n",
            "Train Epoch: 2 [19200/60000 (32%)]\tLoss: 0.008633\n",
            "Train Epoch: 2 [19840/60000 (33%)]\tLoss: 0.024079\n",
            "Train Epoch: 2 [20480/60000 (34%)]\tLoss: 0.022438\n",
            "Train Epoch: 2 [21120/60000 (35%)]\tLoss: 0.025914\n",
            "Train Epoch: 2 [21760/60000 (36%)]\tLoss: 0.074542\n",
            "Train Epoch: 2 [22400/60000 (37%)]\tLoss: 0.112500\n",
            "Train Epoch: 2 [23040/60000 (38%)]\tLoss: 0.084908\n",
            "Train Epoch: 2 [23680/60000 (39%)]\tLoss: 0.016058\n",
            "Train Epoch: 2 [24320/60000 (41%)]\tLoss: 0.032808\n",
            "Train Epoch: 2 [24960/60000 (42%)]\tLoss: 0.033368\n",
            "Train Epoch: 2 [25600/60000 (43%)]\tLoss: 0.004217\n",
            "Train Epoch: 2 [26240/60000 (44%)]\tLoss: 0.109853\n",
            "Train Epoch: 2 [26880/60000 (45%)]\tLoss: 0.021140\n",
            "Train Epoch: 2 [27520/60000 (46%)]\tLoss: 0.037697\n",
            "Train Epoch: 2 [28160/60000 (47%)]\tLoss: 0.020202\n",
            "Train Epoch: 2 [28800/60000 (48%)]\tLoss: 0.016716\n",
            "Train Epoch: 2 [29440/60000 (49%)]\tLoss: 0.003306\n",
            "Train Epoch: 2 [30080/60000 (50%)]\tLoss: 0.058304\n",
            "Train Epoch: 2 [30720/60000 (51%)]\tLoss: 0.120448\n",
            "Train Epoch: 2 [31360/60000 (52%)]\tLoss: 0.164542\n",
            "Train Epoch: 2 [32000/60000 (53%)]\tLoss: 0.010702\n",
            "Train Epoch: 2 [32640/60000 (54%)]\tLoss: 0.041855\n",
            "Train Epoch: 2 [33280/60000 (55%)]\tLoss: 0.032909\n",
            "Train Epoch: 2 [33920/60000 (57%)]\tLoss: 0.046132\n",
            "Train Epoch: 2 [34560/60000 (58%)]\tLoss: 0.003612\n",
            "Train Epoch: 2 [35200/60000 (59%)]\tLoss: 0.095855\n",
            "Train Epoch: 2 [35840/60000 (60%)]\tLoss: 0.107108\n",
            "Train Epoch: 2 [36480/60000 (61%)]\tLoss: 0.063941\n",
            "Train Epoch: 2 [37120/60000 (62%)]\tLoss: 0.079004\n",
            "Train Epoch: 2 [37760/60000 (63%)]\tLoss: 0.200071\n",
            "Train Epoch: 2 [38400/60000 (64%)]\tLoss: 0.005867\n",
            "Train Epoch: 2 [39040/60000 (65%)]\tLoss: 0.011452\n",
            "Train Epoch: 2 [39680/60000 (66%)]\tLoss: 0.005688\n",
            "Train Epoch: 2 [40320/60000 (67%)]\tLoss: 0.004240\n",
            "Train Epoch: 2 [40960/60000 (68%)]\tLoss: 0.054911\n",
            "Train Epoch: 2 [41600/60000 (69%)]\tLoss: 0.006084\n",
            "Train Epoch: 2 [42240/60000 (70%)]\tLoss: 0.109955\n",
            "Train Epoch: 2 [42880/60000 (71%)]\tLoss: 0.009778\n",
            "Train Epoch: 2 [43520/60000 (72%)]\tLoss: 0.009187\n",
            "Train Epoch: 2 [44160/60000 (74%)]\tLoss: 0.019677\n",
            "Train Epoch: 2 [44800/60000 (75%)]\tLoss: 0.075368\n",
            "Train Epoch: 2 [45440/60000 (76%)]\tLoss: 0.004846\n",
            "Train Epoch: 2 [46080/60000 (77%)]\tLoss: 0.029264\n",
            "Train Epoch: 2 [46720/60000 (78%)]\tLoss: 0.090797\n",
            "Train Epoch: 2 [47360/60000 (79%)]\tLoss: 0.009117\n",
            "Train Epoch: 2 [48000/60000 (80%)]\tLoss: 0.025341\n",
            "Train Epoch: 2 [48640/60000 (81%)]\tLoss: 0.043734\n",
            "Train Epoch: 2 [49280/60000 (82%)]\tLoss: 0.067105\n",
            "Train Epoch: 2 [49920/60000 (83%)]\tLoss: 0.082905\n",
            "Train Epoch: 2 [50560/60000 (84%)]\tLoss: 0.092207\n",
            "Train Epoch: 2 [51200/60000 (85%)]\tLoss: 0.004588\n",
            "Train Epoch: 2 [51840/60000 (86%)]\tLoss: 0.054673\n",
            "Train Epoch: 2 [52480/60000 (87%)]\tLoss: 0.028718\n",
            "Train Epoch: 2 [53120/60000 (88%)]\tLoss: 0.003276\n",
            "Train Epoch: 2 [53760/60000 (90%)]\tLoss: 0.027101\n",
            "Train Epoch: 2 [54400/60000 (91%)]\tLoss: 0.196247\n",
            "Train Epoch: 2 [55040/60000 (92%)]\tLoss: 0.294242\n",
            "Train Epoch: 2 [55680/60000 (93%)]\tLoss: 0.002902\n",
            "Train Epoch: 2 [56320/60000 (94%)]\tLoss: 0.126983\n",
            "Train Epoch: 2 [56960/60000 (95%)]\tLoss: 0.031910\n",
            "Train Epoch: 2 [57600/60000 (96%)]\tLoss: 0.024044\n",
            "Train Epoch: 2 [58240/60000 (97%)]\tLoss: 0.005845\n",
            "Train Epoch: 2 [58880/60000 (98%)]\tLoss: 0.017766\n",
            "Train Epoch: 2 [59520/60000 (99%)]\tLoss: 0.003627\n",
            "\n",
            "Test set: Avg. loss: 0.0596, Accuracy: 9806/10000 (98%)\n",
            "\n",
            "Train Epoch: 3 [0/60000 (0%)]\tLoss: 0.007146\n",
            "Train Epoch: 3 [640/60000 (1%)]\tLoss: 0.015186\n",
            "Train Epoch: 3 [1280/60000 (2%)]\tLoss: 0.009397\n",
            "Train Epoch: 3 [1920/60000 (3%)]\tLoss: 0.015955\n",
            "Train Epoch: 3 [2560/60000 (4%)]\tLoss: 0.020828\n",
            "Train Epoch: 3 [3200/60000 (5%)]\tLoss: 0.026715\n",
            "Train Epoch: 3 [3840/60000 (6%)]\tLoss: 0.014582\n",
            "Train Epoch: 3 [4480/60000 (7%)]\tLoss: 0.005297\n",
            "Train Epoch: 3 [5120/60000 (9%)]\tLoss: 0.011562\n",
            "Train Epoch: 3 [5760/60000 (10%)]\tLoss: 0.055389\n",
            "Train Epoch: 3 [6400/60000 (11%)]\tLoss: 0.016218\n",
            "Train Epoch: 3 [7040/60000 (12%)]\tLoss: 0.097497\n",
            "Train Epoch: 3 [7680/60000 (13%)]\tLoss: 0.036994\n",
            "Train Epoch: 3 [8320/60000 (14%)]\tLoss: 0.007493\n",
            "Train Epoch: 3 [8960/60000 (15%)]\tLoss: 0.014092\n",
            "Train Epoch: 3 [9600/60000 (16%)]\tLoss: 0.161511\n",
            "Train Epoch: 3 [10240/60000 (17%)]\tLoss: 0.018398\n",
            "Train Epoch: 3 [10880/60000 (18%)]\tLoss: 0.042569\n",
            "Train Epoch: 3 [11520/60000 (19%)]\tLoss: 0.002072\n",
            "Train Epoch: 3 [12160/60000 (20%)]\tLoss: 0.187000\n",
            "Train Epoch: 3 [12800/60000 (21%)]\tLoss: 0.045471\n",
            "Train Epoch: 3 [13440/60000 (22%)]\tLoss: 0.039335\n",
            "Train Epoch: 3 [14080/60000 (23%)]\tLoss: 0.005377\n",
            "Train Epoch: 3 [14720/60000 (25%)]\tLoss: 0.001602\n",
            "Train Epoch: 3 [15360/60000 (26%)]\tLoss: 0.025562\n",
            "Train Epoch: 3 [16000/60000 (27%)]\tLoss: 0.021814\n",
            "Train Epoch: 3 [16640/60000 (28%)]\tLoss: 0.057038\n",
            "Train Epoch: 3 [17280/60000 (29%)]\tLoss: 0.089870\n",
            "Train Epoch: 3 [17920/60000 (30%)]\tLoss: 0.009186\n",
            "Train Epoch: 3 [18560/60000 (31%)]\tLoss: 0.009587\n",
            "Train Epoch: 3 [19200/60000 (32%)]\tLoss: 0.004315\n",
            "Train Epoch: 3 [19840/60000 (33%)]\tLoss: 0.103271\n",
            "Train Epoch: 3 [20480/60000 (34%)]\tLoss: 0.180595\n",
            "Train Epoch: 3 [21120/60000 (35%)]\tLoss: 0.083666\n",
            "Train Epoch: 3 [21760/60000 (36%)]\tLoss: 0.008099\n",
            "Train Epoch: 3 [22400/60000 (37%)]\tLoss: 0.035485\n",
            "Train Epoch: 3 [23040/60000 (38%)]\tLoss: 0.008236\n",
            "Train Epoch: 3 [23680/60000 (39%)]\tLoss: 0.043050\n",
            "Train Epoch: 3 [24320/60000 (41%)]\tLoss: 0.010802\n",
            "Train Epoch: 3 [24960/60000 (42%)]\tLoss: 0.009364\n",
            "Train Epoch: 3 [25600/60000 (43%)]\tLoss: 0.018266\n",
            "Train Epoch: 3 [26240/60000 (44%)]\tLoss: 0.012478\n",
            "Train Epoch: 3 [26880/60000 (45%)]\tLoss: 0.005586\n",
            "Train Epoch: 3 [27520/60000 (46%)]\tLoss: 0.004139\n",
            "Train Epoch: 3 [28160/60000 (47%)]\tLoss: 0.004692\n",
            "Train Epoch: 3 [28800/60000 (48%)]\tLoss: 0.010558\n",
            "Train Epoch: 3 [29440/60000 (49%)]\tLoss: 0.003519\n",
            "Train Epoch: 3 [30080/60000 (50%)]\tLoss: 0.022780\n",
            "Train Epoch: 3 [30720/60000 (51%)]\tLoss: 0.027519\n",
            "Train Epoch: 3 [31360/60000 (52%)]\tLoss: 0.011063\n",
            "Train Epoch: 3 [32000/60000 (53%)]\tLoss: 0.161664\n",
            "Train Epoch: 3 [32640/60000 (54%)]\tLoss: 0.002043\n",
            "Train Epoch: 3 [33280/60000 (55%)]\tLoss: 0.197758\n",
            "Train Epoch: 3 [33920/60000 (57%)]\tLoss: 0.000748\n",
            "Train Epoch: 3 [34560/60000 (58%)]\tLoss: 0.012138\n",
            "Train Epoch: 3 [35200/60000 (59%)]\tLoss: 0.062499\n",
            "Train Epoch: 3 [35840/60000 (60%)]\tLoss: 0.109388\n",
            "Train Epoch: 3 [36480/60000 (61%)]\tLoss: 0.023676\n",
            "Train Epoch: 3 [37120/60000 (62%)]\tLoss: 0.034619\n",
            "Train Epoch: 3 [37760/60000 (63%)]\tLoss: 0.050137\n",
            "Train Epoch: 3 [38400/60000 (64%)]\tLoss: 0.019099\n",
            "Train Epoch: 3 [39040/60000 (65%)]\tLoss: 0.010532\n",
            "Train Epoch: 3 [39680/60000 (66%)]\tLoss: 0.084799\n",
            "Train Epoch: 3 [40320/60000 (67%)]\tLoss: 0.008934\n",
            "Train Epoch: 3 [40960/60000 (68%)]\tLoss: 0.006310\n",
            "Train Epoch: 3 [41600/60000 (69%)]\tLoss: 0.002078\n",
            "Train Epoch: 3 [42240/60000 (70%)]\tLoss: 0.013992\n",
            "Train Epoch: 3 [42880/60000 (71%)]\tLoss: 0.018230\n",
            "Train Epoch: 3 [43520/60000 (72%)]\tLoss: 0.024982\n",
            "Train Epoch: 3 [44160/60000 (74%)]\tLoss: 0.014013\n",
            "Train Epoch: 3 [44800/60000 (75%)]\tLoss: 0.007080\n",
            "Train Epoch: 3 [45440/60000 (76%)]\tLoss: 0.011485\n",
            "Train Epoch: 3 [46080/60000 (77%)]\tLoss: 0.009369\n",
            "Train Epoch: 3 [46720/60000 (78%)]\tLoss: 0.019999\n",
            "Train Epoch: 3 [47360/60000 (79%)]\tLoss: 0.012078\n",
            "Train Epoch: 3 [48000/60000 (80%)]\tLoss: 0.009937\n",
            "Train Epoch: 3 [48640/60000 (81%)]\tLoss: 0.061233\n",
            "Train Epoch: 3 [49280/60000 (82%)]\tLoss: 0.031754\n",
            "Train Epoch: 3 [49920/60000 (83%)]\tLoss: 0.006739\n",
            "Train Epoch: 3 [50560/60000 (84%)]\tLoss: 0.112231\n",
            "Train Epoch: 3 [51200/60000 (85%)]\tLoss: 0.086287\n",
            "Train Epoch: 3 [51840/60000 (86%)]\tLoss: 0.008462\n",
            "Train Epoch: 3 [52480/60000 (87%)]\tLoss: 0.023141\n",
            "Train Epoch: 3 [53120/60000 (88%)]\tLoss: 0.061732\n",
            "Train Epoch: 3 [53760/60000 (90%)]\tLoss: 0.002310\n",
            "Train Epoch: 3 [54400/60000 (91%)]\tLoss: 0.031720\n",
            "Train Epoch: 3 [55040/60000 (92%)]\tLoss: 0.134871\n",
            "Train Epoch: 3 [55680/60000 (93%)]\tLoss: 0.156758\n",
            "Train Epoch: 3 [56320/60000 (94%)]\tLoss: 0.075167\n",
            "Train Epoch: 3 [56960/60000 (95%)]\tLoss: 0.026300\n",
            "Train Epoch: 3 [57600/60000 (96%)]\tLoss: 0.006066\n",
            "Train Epoch: 3 [58240/60000 (97%)]\tLoss: 0.086654\n",
            "Train Epoch: 3 [58880/60000 (98%)]\tLoss: 0.019115\n",
            "Train Epoch: 3 [59520/60000 (99%)]\tLoss: 0.006989\n",
            "\n",
            "Test set: Avg. loss: 0.0314, Accuracy: 9903/10000 (99%)\n",
            "\n"
          ]
        }
      ]
    },
    {
      "cell_type": "markdown",
      "source": [
        "##**Plot Training and Test Loss**"
      ],
      "metadata": {
        "id": "ldoir4Ub8O20"
      }
    },
    {
      "cell_type": "code",
      "source": [
        "fig = plt.figure()\n",
        "plt.plot(train_counter, train_losses, color='blue')\n",
        "plt.plot(test_counter, test_losses, color='red')\n",
        "plt.legend(['Train Loss', 'Test Loss'], loc='upper right')\n",
        "plt.xlabel('number of training examples seen')\n",
        "plt.ylabel('negative log likelihood loss')\n",
        "fig"
      ],
      "metadata": {
        "colab": {
          "base_uri": "https://localhost:8080/",
          "height": 541
        },
        "id": "_d2ZVQ5sombb",
        "outputId": "72499cf6-c09b-422c-8d19-23332aeb6f32"
      },
      "execution_count": null,
      "outputs": [
        {
          "output_type": "execute_result",
          "data": {
            "image/png": "[encoded data removed]",
            "text/plain": [
              "<Figure size 432x288 with 1 Axes>"
            ]
          },
          "metadata": {},
          "execution_count": 25
        },
        {
          "output_type": "display_data",
          "data": {
            "image/png": "[encoded data removed]",
            "text/plain": [
              "<Figure size 432x288 with 1 Axes>"
            ]
          },
          "metadata": {
            "needs_background": "light"
          }
        }
      ]
    },
    {
      "cell_type": "markdown",
      "source": [
        "##**Plot a Predicted Data**"
      ],
      "metadata": {
        "id": "eM1TwSYl8Y5B"
      }
    },
    {
      "cell_type": "code",
      "source": [
        "with torch.no_grad():\n",
        "  output = network(example_data)"
      ],
      "metadata": {
        "colab": {
          "base_uri": "https://localhost:8080/"
        },
        "id": "zmyWeCRk3MO-",
        "outputId": "0c9f269d-9473-425e-b852-29cad52d8fdb"
      },
      "execution_count": null,
      "outputs": [
        {
          "output_type": "stream",
          "name": "stderr",
          "text": [
            "/usr/local/lib/python3.7/dist-packages/ipykernel_launcher.py:16: UserWarning: Implicit dimension choice for log_softmax has been deprecated. Change the call to include dim=X as an argument.\n",
            "  app.launch_new_instance()\n"
          ]
        }
      ]
    },
    {
      "cell_type": "code",
      "source": [
        "fig = plt.figure()\n",
        "for i in range(6):\n",
        "  plt.subplot(2,3,i+1)\n",
        "  plt.tight_layout()\n",
        "  plt.imshow(example_data[i][0], cmap='gray', interpolation='none')\n",
        "  plt.title(\"Prediction: {}\".format(\n",
        "    output.data.max(1, keepdim=True)[1][i].item()))\n",
        "  plt.xticks([])\n",
        "  plt.yticks([])\n",
        "fig"
      ],
      "metadata": {
        "colab": {
          "base_uri": "https://localhost:8080/",
          "height": 551
        },
        "id": "YB9wGoo63RVt",
        "outputId": "55998cc6-8026-45d5-9c42-d72314de70d0"
      },
      "execution_count": null,
      "outputs": [
        {
          "output_type": "execute_result",
          "data": {
            "image/png": "[encoded data removed]",
            "text/plain": [
              "<Figure size 432x288 with 6 Axes>"
            ]
          },
          "metadata": {},
          "execution_count": 27
        },
        {
          "output_type": "display_data",
          "data": {
            "image/png": "[encoded data removed]",
            "text/plain": [
              "<Figure size 432x288 with 6 Axes>"
            ]
          },
          "metadata": {}
        }
      ]
    }
  ]
}